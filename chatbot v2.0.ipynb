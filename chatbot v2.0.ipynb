{
 "cells": [
  {
   "cell_type": "code",
   "execution_count": null,
   "metadata": {
    "scrolled": true
   },
   "outputs": [
    {
     "name": "stdout",
     "output_type": "stream",
     "text": [
      "Speak Anything :\n",
      "Speak Anything :\n",
      "data\n",
      "Speak Anything :\n",
      "my\n",
      "dell latitude e6440\n",
      "Speak Anything :\n"
     ]
    }
   ],
   "source": [
    "#this is an updated version of chatbot\n",
    "#author: YASH MATHUR(the mocking jester)\n",
    "#language used: python 3\n",
    "#platform :Windows 10 (64 bit)\n",
    "\n",
    "import speech_recognition as sr\n",
    "import json  #used for catching the exception thrown by google audio\n",
    "r = sr.Recognizer()\n",
    "\n",
    "from gtts import gTTS\n",
    "import os\n",
    "\n",
    "import pyttsx3 as pyt\n",
    "engine = pyt.init()\n",
    "\n",
    "\n",
    "ctr=0\n",
    "\n",
    "\n",
    "import openpyxl,time\n",
    "\n",
    "u=1\n",
    "\n",
    "#time.sleep(2)\n",
    "\n",
    "    \n",
    "with sr.Microphone() as source:\n",
    "    r.adjust_for_ambient_noise(source)\n",
    "    while 1:\n",
    "        \n",
    "        print(\"Speak Anything :\")\n",
    "        #time.sleep(4)\n",
    "        try:\n",
    "            audio = r.listen(source)\n",
    "            \n",
    "        except:\n",
    "            \n",
    "            print(\"internal problem occured\")\n",
    "            continue\n",
    "        try:\n",
    "            \n",
    "            text = r.recognize_google(audio,language='en-IN')\n",
    "            response = json.dumps(text, ensure_ascii=False).encode('utf8')  #this is must otherwise above line will throw exception\n",
    "            \n",
    "            text=text.lower()\n",
    "            print(text)\n",
    "            wb=openpyxl.load_workbook(\"training.xlsx\")\n",
    "            time.sleep(2)\n",
    "            sheet=wb['Sheet1']#wb.get_sheet_names())\n",
    "            \n",
    "            for i in range(2,sheet.max_row+1):\n",
    "                if((sheet.cell(row=i,column=1).value==text) or (sheet.cell(row=i,column=1).value in text) or (text in sheet.cell(row=i,column=1).value) ):\n",
    "                    ctr=1\n",
    "                    s = sheet.cell(row=i,column=2).value\n",
    "                    \n",
    "                    engine.say(s)\n",
    "                    engine.runAndWait()\n",
    "                    #time.sleep(2.5)\n",
    "                    print(sheet.cell(row=i,column=2).value)\n",
    "                    break\n",
    "                else:\n",
    "                    pass\n",
    "            #print(\"ctr=\"+ str(ctr))\n",
    "            \n",
    "            if(ctr==0):\n",
    "                s=\"cant find that in our data\"\n",
    "                engine.say(s)\n",
    "                engine.runAndWait()\n",
    "                \n",
    "            else:\n",
    "                pass\n",
    "            \n",
    "        except:\n",
    "            s=\"can't recognize\"\n",
    "            engine.say(s)\n",
    "            engine.runAndWait()\n",
    "        \n",
    "        \n",
    "            "
   ]
  },
  {
   "cell_type": "code",
   "execution_count": null,
   "metadata": {},
   "outputs": [],
   "source": []
  },
  {
   "cell_type": "code",
   "execution_count": null,
   "metadata": {},
   "outputs": [],
   "source": []
  }
 ],
 "metadata": {
  "kernelspec": {
   "display_name": "Python 3",
   "language": "python",
   "name": "python3"
  },
  "language_info": {
   "codemirror_mode": {
    "name": "ipython",
    "version": 3
   },
   "file_extension": ".py",
   "mimetype": "text/x-python",
   "name": "python",
   "nbconvert_exporter": "python",
   "pygments_lexer": "ipython3",
   "version": "3.7.3"
  }
 },
 "nbformat": 4,
 "nbformat_minor": 2
}
