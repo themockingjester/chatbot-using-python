{
 "cells": [
  {
   "cell_type": "code",
   "execution_count": null,
   "metadata": {},
   "outputs": [
    {
     "name": "stdout",
     "output_type": "stream",
     "text": [
      "Speak Anything :\n",
      "hi\n",
      "hello sir\n",
      "Speak Anything :\n",
      "Sorry could not recognize what you said\n",
      "Speak Anything :\n",
      "you maker\n",
      "Sorry could not recognize what you said\n",
      "Speak Anything :\n",
      "your maker\n",
      "yash bro\n",
      "Speak Anything :\n",
      "Sorry could not recognize what you said\n",
      "Speak Anything :\n",
      "pc name\n",
      "dell e6440\n",
      "Speak Anything :\n",
      "Sorry could not recognize what you said\n",
      "Speak Anything :\n",
      "bonjour\n",
      "hello sir\n",
      "Speak Anything :\n",
      "Sorry could not recognize what you said\n",
      "Speak Anything :\n",
      "Sorry could not recognize what you said\n",
      "Speak Anything :\n",
      "Sorry could not recognize what you said\n",
      "Speak Anything :\n",
      "Sorry could not recognize what you said\n",
      "Speak Anything :\n",
      "Sorry could not recognize what you said\n",
      "Speak Anything :\n"
     ]
    }
   ],
   "source": [
    "from gtts import gTTS\n",
    "import os\n",
    "\n",
    "\n",
    "# initialize tts, create mp3 and play\n",
    "ctr=0\n",
    "\n",
    "import speech_recognition as sr\n",
    "import openpyxl,time\n",
    "r = sr.Recognizer()\n",
    "#time.sleep(2)\n",
    "while 1:\n",
    "    with sr.Microphone() as source:\n",
    "        print(\"Speak Anything :\")\n",
    "        audio = r.listen(source)\n",
    "        try:\n",
    "            text = r.recognize_google(audio)\n",
    "            text=text.lower()\n",
    "            print(text)\n",
    "            wb=openpyxl.load_workbook(\"training.xlsx\")\n",
    "            sheet=wb['Sheet1']#wb.get_sheet_names())\n",
    "\n",
    "            for i in range(2,60000000):\n",
    "                if((sheet.cell(row=i,column=1).value==text) or (sheet.cell(row=i,column=1).value in text) or (text in sheet.cell(row=i,column=1).value) ):\n",
    "                    ctr=1\n",
    "                    s = sheet.cell(row=i,column=2).value\n",
    "                    file = \"file1.mp3\"\n",
    "                    tts = gTTS(s, 'en')\n",
    "                \n",
    "                    tts.save(file)\n",
    "                    os.system(file)\n",
    "                    #time.sleep(2.5)\n",
    "                    print(sheet.cell(row=i,column=2).value)\n",
    "                    break\n",
    "                else:\n",
    "                    pass\n",
    "            \n",
    "            if(ctr==0):\n",
    "                print(\"cant find that in our data\")\n",
    "            else:\n",
    "                pass\n",
    "            \n",
    "        \n",
    "        \n",
    "        except:\n",
    "            print(\"Sorry could not recognize what you said\")\n",
    "        finally:\n",
    "            time.sleep(2)\n",
    "            "
   ]
  },
  {
   "cell_type": "code",
   "execution_count": null,
   "metadata": {},
   "outputs": [],
   "source": []
  },
  {
   "cell_type": "code",
   "execution_count": null,
   "metadata": {},
   "outputs": [],
   "source": []
  }
 ],
 "metadata": {
  "kernelspec": {
   "display_name": "Python 3",
   "language": "python",
   "name": "python3"
  },
  "language_info": {
   "codemirror_mode": {
    "name": "ipython",
    "version": 3
   },
   "file_extension": ".py",
   "mimetype": "text/x-python",
   "name": "python",
   "nbconvert_exporter": "python",
   "pygments_lexer": "ipython3",
   "version": "3.7.3"
  }
 },
 "nbformat": 4,
 "nbformat_minor": 2
}
